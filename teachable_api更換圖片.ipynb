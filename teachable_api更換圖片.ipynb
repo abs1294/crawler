{
 "cells": [
  {
   "cell_type": "code",
   "execution_count": 669,
   "metadata": {},
   "outputs": [],
   "source": [
    "import json\n",
    "import base64\n",
    "import sqlite3\n",
    "import win32crypt\n",
    "from cryptography.hazmat.primitives.ciphers.aead import AESGCM\n",
    "import requests\n",
    "import re\n",
    "from requests_toolbelt import MultipartEncoder"
   ]
  },
  {
   "cell_type": "code",
   "execution_count": 670,
   "metadata": {},
   "outputs": [
    {
     "name": "stdout",
     "output_type": "stream",
     "text": [
      "D:\\USER\\OneDrive\\jupyter notebook\\網路爬蟲\n"
     ]
    }
   ],
   "source": [
    "cd D:\\USER\\OneDrive\\jupyter notebook\\網路爬蟲"
   ]
  },
  {
   "cell_type": "code",
   "execution_count": 658,
   "metadata": {},
   "outputs": [],
   "source": [
    "def GetString(LocalState):\n",
    "    with open(LocalState,'r',encoding='utf-8') as f:\n",
    "        s=json.load(f)['os_crypt']['encrypted_key']\n",
    "    return s\n",
    "\n",
    "def pull_the_key(base64_encrypted_key):\n",
    "    encrypted_key_with_header=base64.b64decode(base64_encrypted_key)\n",
    "    encrypted_key=encrypted_key_with_header[5:]\n",
    "    key=win32crypt.CryptUnprotectData(encrypted_key,None,None,None,0)[1]\n",
    "    return key\n",
    "\n",
    "def DecryptString(key,data):\n",
    "    nonce,cipherbytes=data[3:15],data[15:]\n",
    "    aesgcm=AESGCM(key)\n",
    "    plainbytes=aesgcm.decrypt(nonce,cipherbytes,None)\n",
    "    plaintext=plainbytes.decode('utf-8')\n",
    "    return plaintext\n",
    "\n",
    "def test_cookies(domains):\n",
    "    LocalState = r'C:\\Users\\User\\AppData\\Local\\Google\\Chrome\\User Data\\Local State' #密钥文件\n",
    "    Cookies = r'C:\\Users\\User\\AppData\\Local\\Google\\Chrome\\User Data\\Default\\Network\\Cookies' #cookie文件\n",
    "    \n",
    "    con = sqlite3.connect(Cookies)\n",
    "    if type(domains) == str:\n",
    "        sql_command = 'select host_key,name,encrypted_value from cookies where host_key like \"%' + domains + '%\"'\n",
    "    if type(domains) == list:\n",
    "        sql_command = 'select host_key,name,encrypted_value from cookies where host_key like \"%' + domains[0] + '%\"'\n",
    "        for domain in domains[1:]:\n",
    "            sql_command = sql_command + 'or host_key like \"%' + domain + '%\"'\n",
    "    \n",
    "    res_domain_name = con.execute(sql_command).fetchall()\n",
    "        \n",
    "    key = pull_the_key(GetString(LocalState))        \n",
    "    con.close()\n",
    "\n",
    "#    列表回傳  \n",
    "    datas={}\n",
    "    for i in res_domain_name:\n",
    "        if i[1] == \"\":\n",
    "            continue\n",
    "        datas[i[1]]=DecryptString(key, i[2])\n",
    "    return datas"
   ]
  },
  {
   "cell_type": "code",
   "execution_count": 659,
   "metadata": {},
   "outputs": [],
   "source": [
    "file_payload = {'fileUpload': (\"456.jpg\",open(\"D:\\\\456.jpg\",'rb'), \"image/jpg\")}\n",
    "\n",
    "# 生成可用于multipart/form-data上传的数据\n",
    "my_data = MultipartEncoder(file_payload)\n",
    "\n",
    "# 自动生成Content-Type类型和随机码\n",
    "my_headers = {}\n",
    "my_headers['Content-Type'] = my_data.content_type\n",
    "\n",
    "# 查詢參數\n",
    "my_params = {'_cachebust': '1641745758', 'js_session': '%7B%22apikey%22:%22ADNupMnWyR7kCWRvm76Laz%22,%22mimetypes%22:%5B%22application%2F*%22,%22image%2F*%22,%22audio%2F*%22,%22video%2F*%22%5D,%22persist%22:false,%22version%22:%22v2%22,%22storeLocation%22:%22S3%22,%22storePath%22:null,%22storeContainer%22:null,%22storeAccess%22:%22private%22,%22storeRegion%22:null,%22external%22:true%7D'}\n",
    "\n",
    "# Cookies\n",
    "image_cookies = test_cookies('filepicker')\n",
    "\n",
    "# 將查詢參數加入 POST 請求中\n",
    "r = requests.post('https://www.filepicker.io/api/upload/',headers = my_headers, params = my_params, cookies = image_cookies, data = my_data)\n",
    "\n",
    "# 取得圖片雲端網址\n",
    "image_url = json.loads(r.text)['data'][0]['url']\n",
    "image_url = 'https://cdn.fs.teachablecdn.com/' + re.match(r'https://www.filepicker.io/api/file/(.*)',image_url)[1]"
   ]
  },
  {
   "cell_type": "code",
   "execution_count": 660,
   "metadata": {},
   "outputs": [],
   "source": [
    "def get_course_no(rq_response,course_name):\n",
    "    courses_info = json.loads(rq_response.text)\n",
    "    for course_info in courses_info['data']:\n",
    "        if course_info['attributes']['name'] == course_name:\n",
    "            return str(course_info['attributes']['id'])\n",
    "        else:\n",
    "            return"
   ]
  },
  {
   "cell_type": "code",
   "execution_count": 661,
   "metadata": {},
   "outputs": [],
   "source": [
    "teachable_cookies = test_cookies(['teachable.com','teciram904-s-school.teachab'])\n",
    "r = requests.get('https://teciram904-s-school.teachable.com/api/v2/courses?page=1&per=20', cookies = teachable_cookies)\n",
    "course_no = get_course_no(r,'teciram904')\n",
    "if type(course_no) is type(None):\n",
    "    print('查無此課程名稱')"
   ]
  },
  {
   "cell_type": "code",
   "execution_count": 662,
   "metadata": {},
   "outputs": [],
   "source": [
    "r = requests.get('https://teciram904-s-school.teachable.com/api/v2/courses/' + course_no+'/pages?include[]=draft', cookies = teachable_cookies)\n",
    "page_info = json.loads(r.text)\n",
    "page_no = page_info['included'][0]['id']"
   ]
  },
  {
   "cell_type": "code",
   "execution_count": 663,
   "metadata": {},
   "outputs": [],
   "source": [
    "def get_block_no(rq_response,block_name = \"banner\"): # banner | image_with_text | text | text_with_image_grid ...etc\n",
    "    blocks_info = json.loads(rq_response.text)\n",
    "    for block_info in blocks_info['blocks']:\n",
    "        if re.match(re.compile(\".*\" + block_name + \".*\"),block_info['partial']):\n",
    "            return str(block_info['id'])\n",
    "        else:\n",
    "            return"
   ]
  },
  {
   "cell_type": "code",
   "execution_count": 664,
   "metadata": {},
   "outputs": [],
   "source": [
    "r = requests.get('https://teciram904-s-school.teachable.com/api/v1/pages/' + page_no, cookies = teachable_cookies)\n",
    "block_no = get_block_no(r)"
   ]
  },
  {
   "cell_type": "code",
   "execution_count": 665,
   "metadata": {},
   "outputs": [],
   "source": [
    "# 取得 csrf token\n",
    "r = requests.get('https://teciram904-s-school.teachable.com/admin/site/pages/'+page_no+'/edit', cookies = teachable_cookies)\n",
    "csrf_token = re.findall(r'csrf_token\\\"\\:\\\"(.*?)\\\"\\,',r.text.strip())[0]\n",
    "\n",
    "teachable_cookies = test_cookies(['teachable.com','teciram904-s-school.teachab'])"
   ]
  },
  {
   "cell_type": "code",
   "execution_count": 666,
   "metadata": {},
   "outputs": [],
   "source": [
    "body={}\n",
    "body['id']=block_no\n",
    "body['data']={}\n",
    "body['data']['image_url']=image_url\n",
    "body['data']['alt_text']=''\n",
    "body['data']['heading_text']='<h1>Example Banner</h1>'\n",
    "body['data']['subheading_text']='<p><strong>Showcase your course or coaching, an announcement, or big feature. Use an eye-catching subheader to give your audience more context.</strong></p>'\n",
    "body['data']['button_partial']='external_link'\n",
    "body['data']['button_action_url']='#'\n",
    "body['data']['button_text']='[Set a button action]'\n",
    "body['toggles']={}\n",
    "body['toggles']['show_button']=True"
   ]
  },
  {
   "cell_type": "code",
   "execution_count": 667,
   "metadata": {
    "scrolled": false
   },
   "outputs": [
    {
     "name": "stdout",
     "output_type": "stream",
     "text": [
      "good\n"
     ]
    }
   ],
   "source": [
    "csrf_headers = {}\n",
    "csrf_headers['x-csrf-token'] = csrf_token\n",
    "csrf_headers['Content-Type'] = \"application/json\"\n",
    "\n",
    "r = requests.put('https://teciram904-s-school.teachable.com/api/v1/pages/' + page_no + '/blocks/' + block_no, headers = csrf_headers, cookies = teachable_cookies, data = json.dumps(body))\n",
    "if json.loads(r.text)['data']['image_url']==image_url:\n",
    "    print('good')"
   ]
  },
  {
   "cell_type": "code",
   "execution_count": 668,
   "metadata": {},
   "outputs": [
    {
     "name": "stdout",
     "output_type": "stream",
     "text": [
      "good\n"
     ]
    }
   ],
   "source": [
    "r = requests.post('https://teciram904-s-school.teachable.com/api/v2/pages/'+ str(page_info['data'][0]['attributes']['id']) +'/publish', headers = csrf_headers, cookies = teachable_cookies)\n",
    "if r.status_code == 204:\n",
    "    print('good')"
   ]
  }
 ],
 "metadata": {
  "kernelspec": {
   "display_name": "Python 3",
   "language": "python",
   "name": "python3"
  },
  "language_info": {
   "codemirror_mode": {
    "name": "ipython",
    "version": 3
   },
   "file_extension": ".py",
   "mimetype": "text/x-python",
   "name": "python",
   "nbconvert_exporter": "python",
   "pygments_lexer": "ipython3",
   "version": "3.8.8"
  }
 },
 "nbformat": 4,
 "nbformat_minor": 2
}
