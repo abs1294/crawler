{
 "cells": [
  {
   "cell_type": "code",
   "execution_count": 63,
   "metadata": {},
   "outputs": [],
   "source": [
    "from bs4 import BeautifulSoup\n",
    "import time\n",
    "import json\n",
    "from bs4 import BeautifulSoup\n",
    "from selenium import webdriver\n",
    "from selenium.webdriver.chrome.options import Options\n",
    "from selenium.webdriver.common.by import By\n",
    "from selenium.webdriver.common.action_chains import ActionChains\n",
    "import win32gui, win32con\n",
    "import base64\n",
    "import sqlite3\n",
    "import win32crypt\n",
    "from cryptography.hazmat.primitives.ciphers.aead import AESGCM"
   ]
  },
  {
   "cell_type": "code",
   "execution_count": 64,
   "metadata": {},
   "outputs": [
    {
     "name": "stdout",
     "output_type": "stream",
     "text": [
      "D:\\USER\\OneDrive\\jupyter notebook\\網路爬蟲\n"
     ]
    }
   ],
   "source": [
    "cd D:\\USER\\OneDrive\\jupyter notebook\\網路爬蟲"
   ]
  },
  {
   "cell_type": "code",
   "execution_count": 65,
   "metadata": {},
   "outputs": [],
   "source": [
    "def GetString(LocalState):\n",
    "    with open(LocalState,'r',encoding='utf-8') as f:\n",
    "        s=json.load(f)['os_crypt']['encrypted_key']\n",
    "    return s\n",
    "\n",
    "def pull_the_key(base64_encrypted_key):\n",
    "    encrypted_key_with_header=base64.b64decode(base64_encrypted_key)\n",
    "    encrypted_key=encrypted_key_with_header[5:]\n",
    "    key=win32crypt.CryptUnprotectData(encrypted_key,None,None,None,0)[1]\n",
    "    return key\n",
    "\n",
    "def DecryptString(key,data):\n",
    "    nonce,cipherbytes=data[3:15],data[15:]\n",
    "    aesgcm=AESGCM(key)\n",
    "    plainbytes=aesgcm.decrypt(nonce,cipherbytes,None)\n",
    "    plaintext=plainbytes.decode('utf-8')\n",
    "    return plaintext\n",
    "\n",
    "def test_cookies(domain_name):\n",
    "    LocalState = r'C:\\Users\\User\\AppData\\Local\\Google\\Chrome\\User Data\\Local State' #密钥文件\n",
    "    Cookies = r'C:\\Users\\User\\AppData\\Local\\Google\\Chrome\\User Data\\Default\\Network\\Cookies' #cookie文件\n",
    "    \n",
    "    con = sqlite3.connect(Cookies)\n",
    "    res_sso = con.execute('select host_key,name,encrypted_value from cookies where host_key like \"%sso.teachable.com%\"').fetchall()\n",
    "    res_domain_name = con.execute('select host_key,name,encrypted_value from cookies where host_key like \"%teachable%\" and (' + 'host_key like \"%' + domain_name + '%\")').fetchall()\n",
    "    key = pull_the_key(GetString(LocalState))        \n",
    "    con.close()\n",
    "    \n",
    "#    字典回傳    \n",
    "#    data={}\n",
    "#    datas={}\n",
    "#    for i in res_sso:\n",
    "#        data[i[1]]=DecryptString(key, i[2])\n",
    "#    datas['sso.teachable.com']=data\n",
    "#    data={}\n",
    "#    for i in res_host_key:\n",
    "#        data[i[1]]=DecryptString(key, i[2])\n",
    "#    datas[host_key]=data\n",
    "\n",
    "#    列表回傳  \n",
    "    datas=[]\n",
    "    for i in res_sso:\n",
    "        datas.append(i[1])\n",
    "        datas.append(DecryptString(key, i[2]))\n",
    "    for i in res_domain_name:\n",
    "        datas.append(i[1])\n",
    "        datas.append(DecryptString(key, i[2]))\n",
    "    return datas\n",
    "\n",
    "domain_name=\"teciram904-s-school\" ##############\n",
    "cookie_data = test_cookies(domain_name)"
   ]
  },
  {
   "cell_type": "code",
   "execution_count": 66,
   "metadata": {},
   "outputs": [
    {
     "name": "stderr",
     "output_type": "stream",
     "text": [
      "<ipython-input-66-860ad3d5fbde>:1: DeprecationWarning: executable_path has been deprecated, please pass in a Service object\n",
      "  driver = webdriver.Chrome('D:/USER/OneDrive/jupyter notebook/網路爬蟲/chromedriver.exe')\n"
     ]
    }
   ],
   "source": [
    "driver = webdriver.Chrome('D:/USER/OneDrive/jupyter notebook/網路爬蟲/chromedriver.exe')\n",
    "driver.maximize_window() #最大化窗口 \n",
    "driver.implicitly_wait(25) #隱性等待 25 秒"
   ]
  },
  {
   "cell_type": "code",
   "execution_count": 67,
   "metadata": {},
   "outputs": [],
   "source": [
    "url='https://teciram904-s-school.teachable.com/'   \n",
    "driver.get(url)\n",
    "\n",
    "for i in range(0,int(len(cookie_data)),2):\n",
    "    driver.add_cookie({'name': cookie_data[i],'value':cookie_data[i+1]})\n",
    "url='https://teciram904-s-school.teachable.com/courses'   \n",
    "driver.get(url)\n",
    "driver.implicitly_wait(25)\n",
    "\n",
    "#driver.find_elements_by_css_selector('a.btn.btn-primary.btn-admin')[0].click()\n",
    "#username='lajadov141@pyrelle.com'\n",
    "#password='789456123'\n",
    "#elem = driver.find_element_by_id(\"email\")\n",
    "#elem.send_keys(username)\n",
    "#elem = driver.find_element_by_id(\"password\")\n",
    "#elem.send_keys(password)\n",
    "#driver.find_elements_by_css_selector('input.btn-primary.button.p-v-2-xs.p-h-5-xs.m-v-3-xs.col-12-xs')[0].click()"
   ]
  },
  {
   "cell_type": "code",
   "execution_count": 68,
   "metadata": {},
   "outputs": [],
   "source": [
    "elem = driver.find_elements(By.ID,\"search-courses\")[0]\n",
    "# 清除搜尋框\n",
    "elem.clear()\n",
    "# 輸入課程名稱\n",
    "product_name=\"teciram904\"\n",
    "elem.send_keys(product_name)\n",
    "# 點擊在第一個位置上的課程\n",
    "driver.find_elements(By.ID,'search-course-button')[0].click()"
   ]
  },
  {
   "cell_type": "code",
   "execution_count": 69,
   "metadata": {},
   "outputs": [],
   "source": [
    "if driver.find_elements(By.CSS_SELECTOR,\"div.course-listing-title\")[0].text == product_name:\n",
    "    driver.find_elements(By.CSS_SELECTOR,\"div.course-listing-title\")[0].click()\n",
    "elif driver.find_elements(By.CSS_SELECTOR,\"div.course-listing-title\")[1].text == product_name:\n",
    "    driver.find_elements(By.CSS_SELECTOR,\"div.course-listing-title\")[1].click()\n",
    "elif driver.find_elements(By.CSS_SELECTOR,\"div.course-listing-title\")[2].text == product_name:\n",
    "    driver.find_elements(By.CSS_SELECTOR,\"div.course-listing-title\")[2].click()\n",
    "    \n",
    "driver.find_elements(By.CSS_SELECTOR,\"a.edit-button.m-r-3-xs.p-h-3-xs.p-v-2-xs\")[0].click()    "
   ]
  },
  {
   "cell_type": "code",
   "execution_count": 70,
   "metadata": {},
   "outputs": [],
   "source": [
    "block = 'banner'.lower()\n",
    "blocks = driver.find_elements(By.CSS_SELECTOR,\"button.BlockItem-modules__blockName-1-0c6.text-left-xs._3x1ps\") \n",
    "for index, value in enumerate(blocks):\n",
    "    if value.text.lower() == block:\n",
    "        driver.find_elements(By.CSS_SELECTOR,\"button.BlockItem-modules__blockName-1-0c6.text-left-xs._3x1ps\")[index].click()    \n",
    "        break"
   ]
  },
  {
   "cell_type": "code",
   "execution_count": 71,
   "metadata": {},
   "outputs": [],
   "source": [
    "# 找到要讓鼠標移動 (懸停) 到的位置\n",
    "find_element_hover = driver.find_elements(By.CSS_SELECTOR,\"div.MediaUploader-modules__overlay-1UgbV.MediaUploader-modules__overlayWithImage-SwgD3\")[0]\n",
    "# 讓鼠標執行 懸停\n",
    "ActionChains(driver).move_to_element(find_element_hover).perform()\n",
    "# 讓 Selenium 點擊 綠色Replace Image 的按鈕\n",
    "driver.find_elements(By.CSS_SELECTOR,\"button._2po1U.MediaUploader-modules__button-3ZLXW.dsp-flex-xs.flex-justify-content-center-xs.flex-align-items-center-xs\")[0].click()"
   ]
  },
  {
   "cell_type": "code",
   "execution_count": 72,
   "metadata": {},
   "outputs": [],
   "source": [
    "driver.switch_to.frame(driver.find_elements(By.XPATH,'//*[@id=\"filepicker_dialog\"]')[0])"
   ]
  },
  {
   "cell_type": "code",
   "execution_count": 73,
   "metadata": {},
   "outputs": [],
   "source": [
    "driver.find_elements(By.CSS_SELECTOR,\"button.btn.btn--primary.ng-binding\")[0].click()\n",
    "time.sleep(1)"
   ]
  },
  {
   "cell_type": "code",
   "execution_count": 74,
   "metadata": {},
   "outputs": [
    {
     "data": {
      "text/plain": [
       "0"
      ]
     },
     "execution_count": 74,
     "metadata": {},
     "output_type": "execute_result"
    }
   ],
   "source": [
    "# 一級頂層視窗 (檔案選取的對話框)\n",
    "dialog = win32gui.FindWindow(\"#32770\", \"開啟\")\n",
    "\n",
    "# 二級視窗\n",
    "comboBoxEx32 = win32gui.FindWindowEx(dialog, 0, \"ComboBoxEx32\", None)\n",
    "\n",
    "# 三級視窗\n",
    "comboBox = win32gui.FindWindowEx(comboBoxEx32, 0, \"ComboBox\", None)\n",
    "\n",
    "# 四級視窗 -- 檔案路徑輸入區域\n",
    "edit = win32gui.FindWindowEx(comboBox, 0, \"Edit\", None)\n",
    "\n",
    "# 二級視窗 -- 開啟按鈕\n",
    "button = win32gui.FindWindowEx(dialog, 0, \"Button\", None)\n",
    "\n",
    "# 1、輸入檔案路徑\n",
    "filepath = f\"D:\\\\pexels-nur-andi-ravsanjani-gusma-2422583.jpg\"\n",
    "\n",
    "win32gui.SendMessage(edit, win32con.WM_SETTEXT, None, filepath)\n",
    "\n",
    "# 2、點選開啟按鈕\n",
    "win32gui.SendMessage(dialog, win32con.WM_COMMAND, 1, button)"
   ]
  },
  {
   "cell_type": "code",
   "execution_count": 75,
   "metadata": {},
   "outputs": [],
   "source": [
    "driver.switch_to.default_content()\n",
    "time.sleep(1)\n",
    "driver.switch_to.frame(driver.find_elements(By.XPATH,'//*[@id=\"filepicker_dialog\"]')[0])\n",
    "time.sleep(1)\n",
    "driver.find_elements(By.CSS_SELECTOR,\"button.btn.btn--primary.btn--small_screen.ng-binding\")[0].click()"
   ]
  },
  {
   "cell_type": "code",
   "execution_count": 76,
   "metadata": {},
   "outputs": [
    {
     "ename": "WebDriverException",
     "evalue": "Message: target frame detached\n  (Session info: chrome=96.0.4664.110)\nStacktrace:\nBacktrace:\n\tOrdinal0 [0x00D36903+2517251]\n\tOrdinal0 [0x00CCF8E1+2095329]\n\tOrdinal0 [0x00BD2710+1058576]\n\tOrdinal0 [0x00BC4D4D+1002829]\n\tOrdinal0 [0x00BC3F8D+999309]\n\tOrdinal0 [0x00BC4357+1000279]\n\tOrdinal0 [0x00BDA580+1090944]\n\tOrdinal0 [0x00BD4A7B+1067643]\n\tOrdinal0 [0x00BD45F5+1066485]\n\tOrdinal0 [0x00BD4629+1066537]\n\tOrdinal0 [0x00BD4DCB+1068491]\n\tOrdinal0 [0x00BD5070+1069168]\n\tOrdinal0 [0x00BFD1C2+1233346]\n\tOrdinal0 [0x00BFD63B+1234491]\n\tOrdinal0 [0x00C2784C+1407052]\n\tOrdinal0 [0x00C1650A+1336586]\n\tOrdinal0 [0x00C25BBF+1399743]\n\tOrdinal0 [0x00C1639B+1336219]\n\tOrdinal0 [0x00BF27A7+1189799]\n\tOrdinal0 [0x00BF3609+1193481]\n\tGetHandleVerifier [0x00EC5904+1577972]\n\tGetHandleVerifier [0x00F70B97+2279047]\n\tGetHandleVerifier [0x00DC6D09+534521]\n\tGetHandleVerifier [0x00DC5DB9+530601]\n\tOrdinal0 [0x00CD4FF9+2117625]\n\tOrdinal0 [0x00CD98A8+2136232]\n\tOrdinal0 [0x00CD99E2+2136546]\n\tOrdinal0 [0x00CE3541+2176321]\n\tBaseThreadInitThunk [0x7558FA29+25]\n\tRtlGetAppContainerNamedObjectPath [0x77517A9E+286]\n\tRtlGetAppContainerNamedObjectPath [0x77517A6E+238]\n",
     "output_type": "error",
     "traceback": [
      "\u001b[1;31m---------------------------------------------------------------------------\u001b[0m",
      "\u001b[1;31mWebDriverException\u001b[0m                        Traceback (most recent call last)",
      "\u001b[1;32m<ipython-input-76-214a89af71ac>\u001b[0m in \u001b[0;36m<module>\u001b[1;34m\u001b[0m\n\u001b[0;32m      1\u001b[0m \u001b[0mtime\u001b[0m\u001b[1;33m.\u001b[0m\u001b[0msleep\u001b[0m\u001b[1;33m(\u001b[0m\u001b[1;36m5\u001b[0m\u001b[1;33m)\u001b[0m\u001b[1;33m\u001b[0m\u001b[1;33m\u001b[0m\u001b[0m\n\u001b[1;32m----> 2\u001b[1;33m \u001b[0mdriver\u001b[0m\u001b[1;33m.\u001b[0m\u001b[0mfind_elements\u001b[0m\u001b[1;33m(\u001b[0m\u001b[0mBy\u001b[0m\u001b[1;33m.\u001b[0m\u001b[0mCSS_SELECTOR\u001b[0m\u001b[1;33m,\u001b[0m\u001b[1;34m\"button._2po1U._2po1U.p-v-2-xs.p-h-5-xs._1Q15i._2-Hb2._1yqRw\"\u001b[0m\u001b[1;33m)\u001b[0m\u001b[1;33m[\u001b[0m\u001b[1;36m0\u001b[0m\u001b[1;33m]\u001b[0m\u001b[1;33m.\u001b[0m\u001b[0mclick\u001b[0m\u001b[1;33m(\u001b[0m\u001b[1;33m)\u001b[0m\u001b[1;33m\u001b[0m\u001b[1;33m\u001b[0m\u001b[0m\n\u001b[0m",
      "\u001b[1;32mD:\\Program Files\\anaconda3\\lib\\site-packages\\selenium\\webdriver\\remote\\webdriver.py\u001b[0m in \u001b[0;36mfind_elements\u001b[1;34m(self, by, value)\u001b[0m\n\u001b[0;32m   1277\u001b[0m         \u001b[1;31m# Return empty list if driver returns null\u001b[0m\u001b[1;33m\u001b[0m\u001b[1;33m\u001b[0m\u001b[1;33m\u001b[0m\u001b[0m\n\u001b[0;32m   1278\u001b[0m         \u001b[1;31m# See https://github.com/SeleniumHQ/selenium/issues/4555\u001b[0m\u001b[1;33m\u001b[0m\u001b[1;33m\u001b[0m\u001b[1;33m\u001b[0m\u001b[0m\n\u001b[1;32m-> 1279\u001b[1;33m         return self.execute(Command.FIND_ELEMENTS, {\n\u001b[0m\u001b[0;32m   1280\u001b[0m             \u001b[1;34m'using'\u001b[0m\u001b[1;33m:\u001b[0m \u001b[0mby\u001b[0m\u001b[1;33m,\u001b[0m\u001b[1;33m\u001b[0m\u001b[1;33m\u001b[0m\u001b[0m\n\u001b[0;32m   1281\u001b[0m             'value': value})['value'] or []\n",
      "\u001b[1;32mD:\\Program Files\\anaconda3\\lib\\site-packages\\selenium\\webdriver\\remote\\webdriver.py\u001b[0m in \u001b[0;36mexecute\u001b[1;34m(self, driver_command, params)\u001b[0m\n\u001b[0;32m    422\u001b[0m         \u001b[0mresponse\u001b[0m \u001b[1;33m=\u001b[0m \u001b[0mself\u001b[0m\u001b[1;33m.\u001b[0m\u001b[0mcommand_executor\u001b[0m\u001b[1;33m.\u001b[0m\u001b[0mexecute\u001b[0m\u001b[1;33m(\u001b[0m\u001b[0mdriver_command\u001b[0m\u001b[1;33m,\u001b[0m \u001b[0mparams\u001b[0m\u001b[1;33m)\u001b[0m\u001b[1;33m\u001b[0m\u001b[1;33m\u001b[0m\u001b[0m\n\u001b[0;32m    423\u001b[0m         \u001b[1;32mif\u001b[0m \u001b[0mresponse\u001b[0m\u001b[1;33m:\u001b[0m\u001b[1;33m\u001b[0m\u001b[1;33m\u001b[0m\u001b[0m\n\u001b[1;32m--> 424\u001b[1;33m             \u001b[0mself\u001b[0m\u001b[1;33m.\u001b[0m\u001b[0merror_handler\u001b[0m\u001b[1;33m.\u001b[0m\u001b[0mcheck_response\u001b[0m\u001b[1;33m(\u001b[0m\u001b[0mresponse\u001b[0m\u001b[1;33m)\u001b[0m\u001b[1;33m\u001b[0m\u001b[1;33m\u001b[0m\u001b[0m\n\u001b[0m\u001b[0;32m    425\u001b[0m             response['value'] = self._unwrap_value(\n\u001b[0;32m    426\u001b[0m                 response.get('value', None))\n",
      "\u001b[1;32mD:\\Program Files\\anaconda3\\lib\\site-packages\\selenium\\webdriver\\remote\\errorhandler.py\u001b[0m in \u001b[0;36mcheck_response\u001b[1;34m(self, response)\u001b[0m\n\u001b[0;32m    245\u001b[0m                 \u001b[0malert_text\u001b[0m \u001b[1;33m=\u001b[0m \u001b[0mvalue\u001b[0m\u001b[1;33m[\u001b[0m\u001b[1;34m'alert'\u001b[0m\u001b[1;33m]\u001b[0m\u001b[1;33m.\u001b[0m\u001b[0mget\u001b[0m\u001b[1;33m(\u001b[0m\u001b[1;34m'text'\u001b[0m\u001b[1;33m)\u001b[0m\u001b[1;33m\u001b[0m\u001b[1;33m\u001b[0m\u001b[0m\n\u001b[0;32m    246\u001b[0m             \u001b[1;32mraise\u001b[0m \u001b[0mexception_class\u001b[0m\u001b[1;33m(\u001b[0m\u001b[0mmessage\u001b[0m\u001b[1;33m,\u001b[0m \u001b[0mscreen\u001b[0m\u001b[1;33m,\u001b[0m \u001b[0mstacktrace\u001b[0m\u001b[1;33m,\u001b[0m \u001b[0malert_text\u001b[0m\u001b[1;33m)\u001b[0m  \u001b[1;31m# type: ignore[call-arg]  # mypy is not smart enough here\u001b[0m\u001b[1;33m\u001b[0m\u001b[1;33m\u001b[0m\u001b[0m\n\u001b[1;32m--> 247\u001b[1;33m         \u001b[1;32mraise\u001b[0m \u001b[0mexception_class\u001b[0m\u001b[1;33m(\u001b[0m\u001b[0mmessage\u001b[0m\u001b[1;33m,\u001b[0m \u001b[0mscreen\u001b[0m\u001b[1;33m,\u001b[0m \u001b[0mstacktrace\u001b[0m\u001b[1;33m)\u001b[0m\u001b[1;33m\u001b[0m\u001b[1;33m\u001b[0m\u001b[0m\n\u001b[0m\u001b[0;32m    248\u001b[0m \u001b[1;33m\u001b[0m\u001b[0m\n\u001b[0;32m    249\u001b[0m     \u001b[1;32mdef\u001b[0m \u001b[0m_value_or_default\u001b[0m\u001b[1;33m(\u001b[0m\u001b[0mself\u001b[0m\u001b[1;33m,\u001b[0m \u001b[0mobj\u001b[0m\u001b[1;33m:\u001b[0m \u001b[0mMapping\u001b[0m\u001b[1;33m[\u001b[0m\u001b[0m_KT\u001b[0m\u001b[1;33m,\u001b[0m \u001b[0m_VT\u001b[0m\u001b[1;33m]\u001b[0m\u001b[1;33m,\u001b[0m \u001b[0mkey\u001b[0m\u001b[1;33m:\u001b[0m \u001b[0m_KT\u001b[0m\u001b[1;33m,\u001b[0m \u001b[0mdefault\u001b[0m\u001b[1;33m:\u001b[0m \u001b[0m_VT\u001b[0m\u001b[1;33m)\u001b[0m \u001b[1;33m->\u001b[0m \u001b[0m_VT\u001b[0m\u001b[1;33m:\u001b[0m\u001b[1;33m\u001b[0m\u001b[1;33m\u001b[0m\u001b[0m\n",
      "\u001b[1;31mWebDriverException\u001b[0m: Message: target frame detached\n  (Session info: chrome=96.0.4664.110)\nStacktrace:\nBacktrace:\n\tOrdinal0 [0x00D36903+2517251]\n\tOrdinal0 [0x00CCF8E1+2095329]\n\tOrdinal0 [0x00BD2710+1058576]\n\tOrdinal0 [0x00BC4D4D+1002829]\n\tOrdinal0 [0x00BC3F8D+999309]\n\tOrdinal0 [0x00BC4357+1000279]\n\tOrdinal0 [0x00BDA580+1090944]\n\tOrdinal0 [0x00BD4A7B+1067643]\n\tOrdinal0 [0x00BD45F5+1066485]\n\tOrdinal0 [0x00BD4629+1066537]\n\tOrdinal0 [0x00BD4DCB+1068491]\n\tOrdinal0 [0x00BD5070+1069168]\n\tOrdinal0 [0x00BFD1C2+1233346]\n\tOrdinal0 [0x00BFD63B+1234491]\n\tOrdinal0 [0x00C2784C+1407052]\n\tOrdinal0 [0x00C1650A+1336586]\n\tOrdinal0 [0x00C25BBF+1399743]\n\tOrdinal0 [0x00C1639B+1336219]\n\tOrdinal0 [0x00BF27A7+1189799]\n\tOrdinal0 [0x00BF3609+1193481]\n\tGetHandleVerifier [0x00EC5904+1577972]\n\tGetHandleVerifier [0x00F70B97+2279047]\n\tGetHandleVerifier [0x00DC6D09+534521]\n\tGetHandleVerifier [0x00DC5DB9+530601]\n\tOrdinal0 [0x00CD4FF9+2117625]\n\tOrdinal0 [0x00CD98A8+2136232]\n\tOrdinal0 [0x00CD99E2+2136546]\n\tOrdinal0 [0x00CE3541+2176321]\n\tBaseThreadInitThunk [0x7558FA29+25]\n\tRtlGetAppContainerNamedObjectPath [0x77517A9E+286]\n\tRtlGetAppContainerNamedObjectPath [0x77517A6E+238]\n"
     ]
    }
   ],
   "source": [
    "time.sleep(5)\n",
    "driver.find_elements(By.CSS_SELECTOR,\"button._2po1U._2po1U.p-v-2-xs.p-h-5-xs._1Q15i._2-Hb2._1yqRw\")[0].click()"
   ]
  },
  {
   "cell_type": "code",
   "execution_count": null,
   "metadata": {},
   "outputs": [],
   "source": []
  }
 ],
 "metadata": {
  "kernelspec": {
   "display_name": "Python 3",
   "language": "python",
   "name": "python3"
  },
  "language_info": {
   "codemirror_mode": {
    "name": "ipython",
    "version": 3
   },
   "file_extension": ".py",
   "mimetype": "text/x-python",
   "name": "python",
   "nbconvert_exporter": "python",
   "pygments_lexer": "ipython3",
   "version": "3.8.8"
  }
 },
 "nbformat": 4,
 "nbformat_minor": 2
}
