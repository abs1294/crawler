{
 "cells": [
  {
   "cell_type": "code",
   "execution_count": 4,
   "id": "016285fd",
   "metadata": {},
   "outputs": [
    {
     "name": "stdout",
     "output_type": "stream",
     "text": [
      "title\n",
      "author\n",
      "date\n",
      "url\n"
     ]
    }
   ],
   "source": [
    "for k, v in zip(myDict.keys(),myDict.values()):\n",
    "    print(k)"
   ]
  },
  {
   "cell_type": "code",
   "execution_count": null,
   "id": "3ac82a4d",
   "metadata": {},
   "outputs": [],
   "source": [
    "update_query = u', '.join([u\"{}='{}'\".format(k, v) for k, v in myDict])"
   ]
  },
  {
   "cell_type": "code",
   "execution_count": 2,
   "id": "6c1b4f19",
   "metadata": {},
   "outputs": [],
   "source": [
    "import datetime\n",
    "import requests as rq\n",
    "import os \n",
    "import pymysql"
   ]
  },
  {
   "cell_type": "code",
   "execution_count": 1,
   "id": "e65c4153",
   "metadata": {},
   "outputs": [],
   "source": [
    "myDict={\"title\": \"(本文已被刪除) [tank123zzz]\", \"author\": \"-\", \"date\": \"6/29\", \"url\": 'null'}"
   ]
  },
  {
   "cell_type": "code",
   "execution_count": 16,
   "id": "7118f454",
   "metadata": {},
   "outputs": [
    {
     "data": {
      "text/plain": [
       "False"
      ]
     },
     "execution_count": 16,
     "metadata": {},
     "output_type": "execute_result"
    }
   ],
   "source": [
    "myDict['x']=datetime.datetime.now()\n",
    "myDict['xx']=datetime.date.today()"
   ]
  },
  {
   "cell_type": "code",
   "execution_count": 33,
   "id": "53cc1bbb",
   "metadata": {},
   "outputs": [],
   "source": [
    "ymd = datetime.datetime.strftime(datetime.datetime.now(), \"%Y-%m-%d %H:%M:%S\")"
   ]
  },
  {
   "cell_type": "code",
   "execution_count": 34,
   "id": "3dd08940",
   "metadata": {},
   "outputs": [
    {
     "data": {
      "text/plain": [
       "'2022-07-01 21:11:36'"
      ]
     },
     "execution_count": 34,
     "metadata": {},
     "output_type": "execute_result"
    }
   ],
   "source": [
    "ymd"
   ]
  },
  {
   "cell_type": "code",
   "execution_count": 66,
   "id": "a6c38df4",
   "metadata": {},
   "outputs": [
    {
     "data": {
      "text/plain": [
       "'INSERT INTO Scores (title, author, date, url) VALUES (\"(本文已被刪除) [tank123zzz]\", \"-\", \"6/29\", \"null\")'"
      ]
     },
     "execution_count": 66,
     "metadata": {},
     "output_type": "execute_result"
    }
   ],
   "source": [
    "          f\"INSERT INTO Scores ({', '.join(data.keys())}) VALUES \" + '(\"'+xxx+'\")'"
   ]
  },
  {
   "cell_type": "code",
   "execution_count": 70,
   "id": "8df134e0",
   "metadata": {},
   "outputs": [
    {
     "ename": "TypeError",
     "evalue": "unsupported operand type(s) for +: 'dict_keys' and 'dict_values'",
     "output_type": "error",
     "traceback": [
      "\u001b[1;31m---------------------------------------------------------------------------\u001b[0m",
      "\u001b[1;31mTypeError\u001b[0m                                 Traceback (most recent call last)",
      "Input \u001b[1;32mIn [70]\u001b[0m, in \u001b[0;36m<cell line: 3>\u001b[1;34m()\u001b[0m\n\u001b[0;32m      1\u001b[0m qmarks \u001b[38;5;241m=\u001b[39m \u001b[38;5;124m'\u001b[39m\u001b[38;5;124m, \u001b[39m\u001b[38;5;124m'\u001b[39m\u001b[38;5;241m.\u001b[39mjoin(\u001b[38;5;124m'\u001b[39m\u001b[38;5;124m?\u001b[39m\u001b[38;5;124m'\u001b[39m \u001b[38;5;241m*\u001b[39m \u001b[38;5;28mlen\u001b[39m(myDict))\n\u001b[0;32m      2\u001b[0m qry \u001b[38;5;241m=\u001b[39m \u001b[38;5;124m\"\u001b[39m\u001b[38;5;124mInsert Into Table (\u001b[39m\u001b[38;5;132;01m%s\u001b[39;00m\u001b[38;5;124m) Values (\u001b[39m\u001b[38;5;132;01m%s\u001b[39;00m\u001b[38;5;124m)\u001b[39m\u001b[38;5;124m\"\u001b[39m \u001b[38;5;241m%\u001b[39m (myDict\u001b[38;5;241m.\u001b[39mkeys(), myDict\u001b[38;5;241m.\u001b[39mvalues())\n\u001b[1;32m----> 3\u001b[0m cursor\u001b[38;5;241m.\u001b[39mexecute(qry, \u001b[43mmyDict\u001b[49m\u001b[38;5;241;43m.\u001b[39;49m\u001b[43mkeys\u001b[49m\u001b[43m(\u001b[49m\u001b[43m)\u001b[49m\u001b[43m \u001b[49m\u001b[38;5;241;43m+\u001b[39;49m\u001b[43m \u001b[49m\u001b[43mmyDict\u001b[49m\u001b[38;5;241;43m.\u001b[39;49m\u001b[43mvalues\u001b[49m\u001b[43m(\u001b[49m\u001b[43m)\u001b[49m)\n",
      "\u001b[1;31mTypeError\u001b[0m: unsupported operand type(s) for +: 'dict_keys' and 'dict_values'"
     ]
    }
   ],
   "source": [
    "qmarks = ', '.join('?' * len(myDict))\n",
    "qry = \"Insert Into Table (%s) Values (%s)\" % (myDict.keys(), myDict.values())\n",
    "cursor.execute(qry, myDict.keys() + myDict.values())"
   ]
  },
  {
   "cell_type": "code",
   "execution_count": 71,
   "id": "ba5dbc90",
   "metadata": {},
   "outputs": [
    {
     "data": {
      "text/plain": [
       "\"Insert Into Table (dict_keys(['title', 'author', 'date', 'url'])) Values (dict_values(['(本文已被刪除) [tank123zzz]', '-', '6/29', 'null']))\""
      ]
     },
     "execution_count": 71,
     "metadata": {},
     "output_type": "execute_result"
    }
   ],
   "source": [
    "qry"
   ]
  },
  {
   "cell_type": "code",
   "execution_count": 21,
   "id": "59d0cfd1",
   "metadata": {},
   "outputs": [
    {
     "name": "stdout",
     "output_type": "stream",
     "text": [
      "資料庫連線測試成功！(DB_VERSION：[{'Field': 'UID', 'Type': 'int', 'Null': 'NO', 'Key': 'PRI', 'Default': None, 'Extra': 'auto_increment'}, {'Field': 'title', 'Type': 'varchar(60)', 'Null': 'NO', 'Key': '', 'Default': None, 'Extra': ''}, {'Field': 'push_no', 'Type': 'varchar(60)', 'Null': 'YES', 'Key': '', 'Default': None, 'Extra': ''}, {'Field': 'date', 'Type': 'varchar(60)', 'Null': 'NO', 'Key': '', 'Default': None, 'Extra': ''}, {'Field': 'author', 'Type': 'varchar(45)', 'Null': 'NO', 'Key': '', 'Default': None, 'Extra': ''}, {'Field': 'url', 'Type': 'varchar(100)', 'Null': 'NO', 'Key': 'UNI', 'Default': None, 'Extra': ''}, {'Field': 'board', 'Type': 'varchar(45)', 'Null': 'YES', 'Key': '', 'Default': None, 'Extra': ''}, {'Field': 'Data_Datetime', 'Type': 'datetime', 'Null': 'YES', 'Key': '', 'Default': None, 'Extra': ''}])\n"
     ]
    }
   ],
   "source": [
    "db_settings = {\n",
    "    \"host\": '127.0.0.1',\n",
    "    \"port\": 3306,\n",
    "    \"user\": 'root',\n",
    "    \"password\": 'As123459362',\n",
    "    \"db\": 'pttcrawler',\n",
    "    \"charset\": 'utf8mb4',\n",
    "    \"autocommit\":True\n",
    "}\n",
    "\n",
    "\n",
    "try:\n",
    "    # 建立Connection物件\n",
    "    conn = pymysql.connect(**db_settings)\n",
    "    # 建立Cursor物件\n",
    "    with conn.cursor(pymysql.cursors.DictCursor) as cursor:\n",
    "      #資料表相關操作\n",
    "        # % 操作符只能直接用於字串(‘123’)，列表([1,2,3])、元組\n",
    "        command = f\"SHOW COLUMNS FROM pttcrawler.ptt_data\"\n",
    "        # 執行\n",
    "        cursor.execute(command)\n",
    "        DB_VERSION = cursor.fetchall()\n",
    "        print(F\"資料庫連線測試成功！(DB_VERSION：{DB_VERSION})\")\n",
    "        column_name=[i['Field'] for i in DB_VERSION]\n",
    "except Exception as ex:\n",
    "    print(f\"資料庫連線測試失敗！，請檢查參數......{ex}\")"
   ]
  },
  {
   "cell_type": "code",
   "execution_count": 22,
   "id": "06a1df1e",
   "metadata": {},
   "outputs": [],
   "source": [
    "column_name_notnull=[i['Field']  for i in DB_VERSION if i['Null']=='NO' and 'auto_increment' not in i['Extra']]"
   ]
  },
  {
   "cell_type": "code",
   "execution_count": 25,
   "id": "05f663d2",
   "metadata": {},
   "outputs": [],
   "source": [
    "column_name_null=[i['Field']  for i in DB_VERSION if i['Null']=='YES' or (i['Null']=='NO' and'auto_increment' in i['Extra'])]"
   ]
  },
  {
   "cell_type": "code",
   "execution_count": 27,
   "id": "d0be77b5",
   "metadata": {},
   "outputs": [
    {
     "data": {
      "text/plain": [
       "True"
      ]
     },
     "execution_count": 27,
     "metadata": {},
     "output_type": "execute_result"
    }
   ],
   "source": [
    "'Data_Datetime' in column_name_null"
   ]
  },
  {
   "cell_type": "code",
   "execution_count": 26,
   "id": "571e21e9",
   "metadata": {},
   "outputs": [
    {
     "name": "stdout",
     "output_type": "stream",
     "text": [
      "1\n"
     ]
    }
   ],
   "source": [
    "        self.db_settings = {\n",
    "        \"host\": self.db_ip.text().strip(),\n",
    "        \"port\": int(self.db_port.text().strip()),\n",
    "        \"user\": self.db_username.text().strip(),\n",
    "        \"password\": self.db_password.text().strip(),\n",
    "        \"db\": self.db_name.text().strip(),\n",
    "        \"charset\": self.db_charset.text().strip(),\n",
    "        \"autocommit\":True}\n",
    "        self.table_name = self.db_table_name.text().strip()\n",
    "        try:\n",
    "            # 建立Connection物件\n",
    "            conn = pymysql.connect(**self.db_settings)\n",
    "            # 建立Cursor物件\n",
    "            with conn.cursor(pymysql.cursors.DictCursor) as cursor:\n",
    "              #資料表相關操作\n",
    "                # % 操作符只能直接用於字串(‘123’)，列表([1,2,3])、元組\n",
    "                command = f\"SHOW COLUMNS FROM {self.db_settings['db']}.{self.table_name}\"\n",
    "                # 執行\n",
    "                cursor.execute(command)\n",
    "                table_des = cursor.fetchall()\n",
    "        except Exception as ex:\n",
    "            self.printf('資料庫連線失敗' + str(ex), 'db')\n",
    "            return\n",
    "        self.column_name_null=[i['Field']  for i in table_des if i['Null']=='YES' or (i['Null']=='NO' and'auto_increment' in i['Extra'])]\n",
    "        self.column_name_notnull=[i['Field']  for i in table_des if i['Null']=='NO' and 'auto_increment' not in i['Extra']]\n",
    "        self.printf(f\"資料庫連線成功！必填欄位名稱：{str(self.column_name_notnull)}；非必填欄位名稱：{str(self.column_name_null)}\", 'db')\n",
    "        print(self.db_datetime_store)\n",
    "        print(self.column_name_null)\n",
    "        print('Data_Datetime' not in self.column_name_null)"
   ]
  },
  {
   "cell_type": "code",
   "execution_count": 22,
   "id": "657913c2",
   "metadata": {},
   "outputs": [],
   "source": [
    "\"xx = [('標題','div.title',0,'text'),('作者','div.author',0,'text'),('日期','div.date',0,'text'),('連結','div.title a',0,'href')]"
   ]
  },
  {
   "cell_type": "code",
   "execution_count": 25,
   "id": "d5462450",
   "metadata": {},
   "outputs": [
    {
     "data": {
      "text/plain": [
       "{1, 2, 5, 6}"
      ]
     },
     "execution_count": 25,
     "metadata": {},
     "output_type": "execute_result"
    }
   ],
   "source": [
    "a=[1,2]\n",
    "b=[1,5,6,5]\n",
    "set(a+b)"
   ]
  },
  {
   "cell_type": "code",
   "execution_count": 21,
   "id": "4c9ea81e",
   "metadata": {},
   "outputs": [
    {
     "name": "stdout",
     "output_type": "stream",
     "text": [
      "11\n"
     ]
    }
   ],
   "source": [
    "def aa():\n",
    "    try:\n",
    "        1/0\n",
    "    except:\n",
    "        raise rq.exceptions.RequestException\n",
    "try:\n",
    "    aa()\n",
    "except rq.exceptions.RequestException:\n",
    "    print(\"11\")\n"
   ]
  },
  {
   "cell_type": "code",
   "execution_count": 1,
   "id": "260c0e31",
   "metadata": {},
   "outputs": [],
   "source": [
    "from apscheduler.triggers.cron import CronTrigger\n",
    "from datetime import datetime\n",
    "from apscheduler.schedulers.qt import QtScheduler\n",
    "from apscheduler.schedulers.blocking import BlockingScheduler\n",
    "\n",
    "def job1():\n",
    "        with open('11.txt', 'a+', encoding='utf-8') as file:\n",
    "            file.write(\"498489\")\n",
    "            file.close()\n",
    "\n"
   ]
  },
  {
   "cell_type": "code",
   "execution_count": 2,
   "id": "f23060a5",
   "metadata": {},
   "outputs": [
    {
     "data": {
      "text/plain": [
       "<Job (id=bd1f447c8a37410282b11203d1708bd2 name=job1)>"
      ]
     },
     "execution_count": 2,
     "metadata": {},
     "output_type": "execute_result"
    }
   ],
   "source": [
    "scheduler = BlockingScheduler(timezone=\"Asia/Taipei\")\n",
    "Crontrigger = CronTrigger(timezone='Asia/Taipei', day_of_week='0-6', hour=18, minute=34, second=0)\n",
    "scheduler.add_job(job1, Crontrigger )\n",
    "#scheduler.start()"
   ]
  },
  {
   "cell_type": "code",
   "execution_count": 3,
   "id": "fc454be5",
   "metadata": {},
   "outputs": [
    {
     "name": "stdout",
     "output_type": "stream",
     "text": [
      "name: job1, trigger: cron[day_of_week='0-6', hour='18', minute='34', second='0'], next run: 0, handler: <function job1 at 0x000001D33D388820> schedule\n"
     ]
    }
   ],
   "source": [
    "jobs=scheduler.get_jobs()\n",
    "for job in jobs:\n",
    "    str = \"name: %s, trigger: %s, next run: %s, handler: %s\" % (job.name, job.trigger, '0', job.func)\n",
    "    print(str, 'schedule')"
   ]
  },
  {
   "cell_type": "code",
   "execution_count": 3,
   "id": "68a1e14a",
   "metadata": {},
   "outputs": [
    {
     "ename": "NameError",
     "evalue": "name 'self' is not defined",
     "output_type": "error",
     "traceback": [
      "\u001b[1;31m---------------------------------------------------------------------------\u001b[0m",
      "\u001b[1;31mNameError\u001b[0m                                 Traceback (most recent call last)",
      "Input \u001b[1;32mIn [3]\u001b[0m, in \u001b[0;36m<cell line: 5>\u001b[1;34m()\u001b[0m\n\u001b[0;32m      3\u001b[0m my_scheduler_job_id\u001b[38;5;241m=\u001b[39m[]\n\u001b[0;32m      4\u001b[0m Crontrigger \u001b[38;5;241m=\u001b[39m CronTrigger(timezone\u001b[38;5;241m=\u001b[39m\u001b[38;5;124m'\u001b[39m\u001b[38;5;124mAsia/Taipei\u001b[39m\u001b[38;5;124m'\u001b[39m, day_of_week\u001b[38;5;241m=\u001b[39m\u001b[38;5;124m'\u001b[39m\u001b[38;5;124m0-6\u001b[39m\u001b[38;5;124m'\u001b[39m, hour\u001b[38;5;241m=\u001b[39m\u001b[38;5;241m8\u001b[39m, minute\u001b[38;5;241m=\u001b[39m\u001b[38;5;241m9\u001b[39m, second\u001b[38;5;241m=\u001b[39m\u001b[38;5;241m5\u001b[39m)\n\u001b[1;32m----> 5\u001b[0m my_scheduler\u001b[38;5;241m.\u001b[39madd_job(\u001b[38;5;28;43mself\u001b[39;49m\u001b[38;5;241m.\u001b[39mjob_do, \u001b[38;5;28mself\u001b[39m\u001b[38;5;241m.\u001b[39mCrontrigger, \u001b[38;5;28mid\u001b[39m\u001b[38;5;241m=\u001b[39m\u001b[38;5;28mself\u001b[39m\u001b[38;5;241m.\u001b[39mschedule_name\u001b[38;5;241m.\u001b[39mtext() )\n",
      "\u001b[1;31mNameError\u001b[0m: name 'self' is not defined"
     ]
    }
   ],
   "source": [
    "my_scheduler = QtScheduler(timezone=\"Asia/Taipei\")\n",
    "my_scheduler.start()\n",
    "my_scheduler_job_id=[]\n",
    "Crontrigger = CronTrigger(timezone='Asia/Taipei', day_of_week='0-6', hour=8, minute=9, second=5)\n",
    "my_scheduler.add_job(self.job_do, self.Crontrigger, id=self.schedule_name.text() )"
   ]
  },
  {
   "cell_type": "code",
   "execution_count": null,
   "id": "3de0e49f",
   "metadata": {},
   "outputs": [],
   "source": []
  }
 ],
 "metadata": {
  "kernelspec": {
   "display_name": "Qt_crawler",
   "language": "python",
   "name": "qtcrawler"
  },
  "language_info": {
   "codemirror_mode": {
    "name": "ipython",
    "version": 3
   },
   "file_extension": ".py",
   "mimetype": "text/x-python",
   "name": "python",
   "nbconvert_exporter": "python",
   "pygments_lexer": "ipython3",
   "version": "3.9.13"
  }
 },
 "nbformat": 4,
 "nbformat_minor": 5
}
