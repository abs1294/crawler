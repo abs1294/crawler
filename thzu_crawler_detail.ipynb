{
 "cells": [
  {
   "cell_type": "code",
   "execution_count": 16,
   "id": "49e19152",
   "metadata": {},
   "outputs": [],
   "source": [
    "from bs4 import BeautifulSoup\n",
    "import requests as rq\n",
    "import re\n",
    "import datetime\n",
    "import pymysql\n",
    "from flask import Flask\n",
    "from flask import jsonify, request\n",
    "from fake_useragent import UserAgent\n",
    "import cv2\n",
    "import numpy as np\n",
    "import time\n",
    "from urllib.parse import urlencode\n",
    "from flask import Flask,request\n",
    "import threading\n",
    "import sys\n",
    "import os\n",
    "import json\n",
    "import shutil\n",
    "import traceback\n",
    "import requests.packages.urllib3\n",
    "requests.packages.urllib3.disable_warnings()\n",
    "import ssl\n",
    "ssl._create_default_https_context = ssl._create_unverified_context"
   ]
  },
  {
   "cell_type": "code",
   "execution_count": 17,
   "id": "76f20a35",
   "metadata": {},
   "outputs": [],
   "source": [
    "#lxml pyinstaller編不動，nuitka不行\n",
    "#parser = \"lxml\"\n",
    "parser = \"html.parser\"\n",
    "parser_detail = 'html5lib'"
   ]
  },
  {
   "cell_type": "code",
   "execution_count": 73,
   "id": "2e7ca5cd",
   "metadata": {},
   "outputs": [],
   "source": [
    "db_settings = {\n",
    "    \"host\": \"127.0.0.1\",\n",
    "    \"port\": 3306,\n",
    "    \"user\": \"root\",\n",
    "    \"password\": \"As123459362\",\n",
    "    \"db\": \"pttcrawler\",\n",
    "    \"charset\": \"utf8\",\n",
    "    \"autocommit\":True\n",
    "}\n",
    "headers = {\n",
    "    \"Accept\": \"text/html,application/xhtml+xml,application/xml;q=0.9,image/avif,image/webp,image/apng,*/*;q=0.8,application/signed-exchange;v=b3;q=0.9\", \n",
    "    \"Accept-Encoding\": \"gzip, deflate, br\", \n",
    "    \"Accept-Language\": \"zh-TW,zh;q=0.9,en-US;q=0.8,en;q=0.7,zh-CN;q=0.6\", \n",
    "    \"Host\": \"29th.cc\",  #目標網站 \n",
    "    \"Sec-Fetch-Dest\": \"document\", \n",
    "    \"Sec-Fetch-Mode\": \"navigate\", \n",
    "    \"Sec-Fetch-Site\": \"same-origin\", \n",
    "    \"Upgrade-Insecure-Requests\": \"?1\", \n",
    "     #使用者代理\n",
    "}"
   ]
  },
  {
   "cell_type": "code",
   "execution_count": 19,
   "id": "f17bb057",
   "metadata": {},
   "outputs": [],
   "source": [
    "# 從免費代理網站取得代理ip\n",
    "def get_proxy_ip(isHttps):\n",
    "    url = {\"usproxy\":\"https://www.us-proxy.org/\",\"freeproxylist\":\"https://free-proxy-list.net/\"}\n",
    "    metas=[]\n",
    "    for i in url:\n",
    "        r = rq.get(url[i],verify=False)\n",
    "        html_doc = r.text\n",
    "        soup = BeautifulSoup(html_doc, parser)\n",
    "        trs = soup.select(\"table.table.table-striped.table-bordered tr\")  \n",
    "        for tr in trs:\n",
    "            tds = tr.select(\"td\")\n",
    "            if len(tds) > 6:\n",
    "                ifScheme = tds[6].text\n",
    "                ip = tds[0].text\n",
    "                port = tds[1].text\n",
    "                anonymity = tds[4].text\n",
    "                proxy = \"%s:%s\"%(ip, port)\n",
    "                meta = {\n",
    "                    'proxyIp': proxy,\n",
    "                    'connect_times':0,\n",
    "                    'successful_connect_times':0,\n",
    "                    'qual_ratio':0,\n",
    "                    'isDelete':False,\n",
    "                    'fromm':i\n",
    "                  }\n",
    "                if ifScheme == isHttps:\n",
    "                    if ifScheme == \"yes\":\n",
    "                        meta['ishttps'] = True\n",
    "                        # https://urllib3.readthedocs.io/en/1.26.x/advanced-usage.html#https-proxy-error-http-proxy\n",
    "                        meta['proxyIp'] = \"http://\" + meta['proxyIp']\n",
    "                    elif ifScheme == \"no\":\n",
    "                        meta['ishttps'] = False\n",
    "                        meta['proxyIp'] = \"http://\" + meta['proxyIp']\n",
    "                    meta = test_proxy(meta,timeout_sec=(4,7))\n",
    "                    metas.append(meta)\n",
    "                    continue\n",
    "    return metas"
   ]
  },
  {
   "cell_type": "code",
   "execution_count": 20,
   "id": "fe61023c",
   "metadata": {},
   "outputs": [],
   "source": [
    "# 測試 proxy 可用性\n",
    "def test_proxy(proxy,timeout_sec,headers={}):\n",
    "    url = \"http://icanhazip.com/\"\n",
    "    print(proxy['proxyIp'])\n",
    "    try:\n",
    "        if proxy['ishttps'] == True:\n",
    "            r = rq.get(url, headers = headers,proxies={'http':proxy['proxyIp'],},verify=False, timeout=timeout_sec)\n",
    "        elif proxy['ishttps'] == False:\n",
    "            r = rq.get(url, headers = headers,proxies={'http':proxy['proxyIp'],},verify=False, timeout=timeout_sec)\n",
    "        print(r.status_code)\n",
    "        print(r.text.strip())\n",
    "        if r.status_code==200:\n",
    "            proxy['isValidate']=True\n",
    "    except Exception as ex:\n",
    "        proxy['isValidate']=False\n",
    "        print(ex)\n",
    "    print(\"---------------\")\n",
    "    return proxy"
   ]
  },
  {
   "cell_type": "code",
   "execution_count": 21,
   "id": "ca6ca7fe",
   "metadata": {},
   "outputs": [],
   "source": [
    "# 將取得的代理ip寫入資料庫，此函數也可以更新已寫入資料庫的資料\n",
    "def send_ip(proxies_pool_https, db_settings,typee=\"\",send_log = True):\n",
    "    time_start = datetime.datetime.now() #開始計時\n",
    "    data_combine=[]\n",
    "    wrong = 0\n",
    "    try:\n",
    "        # 建立Connection物件\n",
    "        conn = pymysql.connect(**db_settings)\n",
    "        # 建立Cursor物件\n",
    "        with conn.cursor() as cursor:\n",
    "          #資料表相關操作\n",
    "            get_max_log_id=\"select MAX(UID) FROM log\"\n",
    "            # % 操作符只能直接用於字串(‘123’)，列表([1,2,3])、元組\n",
    "            command = \"INSERT INTO proxy_ip(log_UID, proxyIp, connect_times, successful_connect_times, qual_ratio, isValidate, ishttps,isDelete, fromm)VALUES(%s, %s, %s, %s, %s, %s, %s, %s, %s) on DUPLICATE KEY UPDATE log_UID = values(log_UID),connect_times =values(connect_times),successful_connect_times=values(successful_connect_times),qual_ratio=values(qual_ratio),isValidate = values(isValidate),ishttps=values(ishttps),isDelete=values(isDelete)\"\n",
    "            command_log = \"INSERT INTO log(datetime, task, status, record_des, errmsg) VALUES(%s, %s, %s, %s, %s)\"\n",
    "            # 紀錄開始\n",
    "            if send_log:\n",
    "                cursor.execute(command_log, (datetime.datetime.now(), \"proxy_ip\", \"start\", typee, \"\"))\n",
    "            # 取得 log 的 UID\n",
    "            cursor.execute(get_max_log_id)\n",
    "            log_UID = str(cursor.fetchone()[0])\n",
    "            # 組合數據\n",
    "            if type(proxies_pool_https) == list:\n",
    "                for proxy in proxies_pool_https:\n",
    "                    data_combine.append((log_UID, proxy[\"proxyIp\"], proxy[\"connect_times\"], proxy[\"successful_connect_times\"], proxy[\"qual_ratio\"], proxy[\"isValidate\"], proxy[\"ishttps\"], proxy[\"isDelete\"], proxy[\"fromm\"]))  # 注意要用两个括号扩起来\n",
    "            else:\n",
    "                data_combine.append((log_UID, proxies_pool_https[\"proxyIp\"], proxies_pool_https[\"connect_times\"], proxies_pool_https[\"successful_connect_times\"], proxies_pool_https[\"qual_ratio\"], proxies_pool_https[\"isValidate\"], proxies_pool_https[\"ishttps\"], proxies_pool_https[\"isDelete\"], proxies_pool_https[\"fromm\"]))  # 注意要用两个括号扩起来\n",
    "            # 執行\n",
    "            try:\n",
    "                cursor.executemany(command, data_combine)\n",
    "            except Exception as err:\n",
    "                print(err)\n",
    "                wrong = wrong + 1\n",
    "                print(wrong)\n",
    "                cursor.execute(command_log, (datetime.datetime.now(), \"proxy_ip\", \"wrong\" + str(wrong), \"\", str(err)))\n",
    "            # 紀錄結束\n",
    "            if wrong==0 and send_log:\n",
    "                cursor.execute(command_log, (datetime.datetime.now(), \"proxy_ip\", \"finish\", \"well_completed\", \"\"))\n",
    "            elif wrong>0 and send_log:\n",
    "                cursor.execute(command_log, (datetime.datetime.now(), \"proxy_ip\", \"finish\", str(wrong) + \" records are wrong\", \"\"))\n",
    "    except Exception as ex:\n",
    "        print(ex)\n",
    "\n",
    "    time_end = datetime.datetime.now()    #結束計時\n",
    "    time_c= time_end - time_start   #執行所花時間\n",
    "    print('time cost', time_c, 's')"
   ]
  },
  {
   "cell_type": "code",
   "execution_count": 22,
   "id": "8c368ba6",
   "metadata": {},
   "outputs": [],
   "source": [
    "# 從資料庫取出ip，未來有自架proxy的話，可以把proxy放到資料庫內，並設定 mine = 1，這樣就會固定抓這個proxy來用，如果沒有自架proxy的話，就還需要多寫 proxy expire 的處置方式。\n",
    "def get_ip_from_db(isHttps,db_settings,qual_ratio=0,connect_times=4):\n",
    "    try:\n",
    "        # 建立Connection物件\n",
    "        data=[]\n",
    "        conn = pymysql.connect(**db_settings)\n",
    "        # 建立Cursor物件\n",
    "        with conn.cursor() as cursor:\n",
    "          #資料表相關操作\n",
    "            if isHttps==\"yes\":\n",
    "                get_ip=f\"select * FROM proxy_ip where isHttps = 1 and isDelete is False and ( qual_ratio > {qual_ratio} or ( connect_times < {connect_times} )) or (mine = 1 and isHttps = 1)\"\n",
    "            elif isHttps==\"no\":\n",
    "                get_ip=f\"select * FROM proxy_ip where isHttps = 0 and isDelete is False and ( qual_ratio > {qual_ratio} or ( connect_times < {connect_times} )) or (mine = 1 and isHttps = 0)\"\n",
    "            cursor.execute(get_ip)\n",
    "            xx = cursor.fetchall()\n",
    "            des = cursor.description\n",
    "            \n",
    "            for i in xx:\n",
    "                d = {}\n",
    "                x=0\n",
    "                for j in des:\n",
    "                    d[j[0]]=i[x]\n",
    "                    x=x+1\n",
    "                data.append(d)\n",
    "    except Exception as ex:\n",
    "        print(ex)\n",
    "    return data"
   ]
  },
  {
   "cell_type": "code",
   "execution_count": 3,
   "id": "fbd699b7",
   "metadata": {},
   "outputs": [
    {
     "name": "stdout",
     "output_type": "stream",
     "text": [
      "一共抓出 142034 筆還沒有內頁資料\n"
     ]
    }
   ],
   "source": [
    "conn = pymysql.connect(**db_settings)\n",
    "# 建立Cursor物件\n",
    "with conn.cursor(pymysql.cursors.DictCursor) as cursor:\n",
    "  #資料表相關操作\n",
    "\n",
    "    get_max_log_id=\"SELECT * FROM pttcrawler.thzu_data where nos_of_d =0 \"\n",
    "    cursor.execute(get_max_log_id)\n",
    "    raw_datas = cursor.fetchall()            \n",
    "print(f'一共抓出 {len(raw_datas)} 筆還沒有內頁資料')"
   ]
  },
  {
   "cell_type": "code",
   "execution_count": 24,
   "id": "de214196",
   "metadata": {},
   "outputs": [
    {
     "data": {
      "text/plain": [
       "[{'UID': 1,\n",
       "  'title': 'MEYD-721 左右鄰居人妻抗議我A片太大聲卻被我3P狂插幹上癮還... (中文字幕)',\n",
       "  'date': datetime.datetime(2022, 2, 3, 0, 0),\n",
       "  'url': 'http://29th.cc/thread-2452832-1-1.html',\n",
       "  'board': '有码',\n",
       "  'page': 1,\n",
       "  'log_UID': '1',\n",
       "  'nos_of_d': 0,\n",
       "  'type': '日韩情色(BT)',\n",
       "  'look': 116,\n",
       "  'reply': 0}]"
      ]
     },
     "execution_count": 24,
     "metadata": {},
     "output_type": "execute_result"
    }
   ],
   "source": [
    "raw_datas[0:1]"
   ]
  },
  {
   "cell_type": "code",
   "execution_count": 15,
   "id": "6bfd29af",
   "metadata": {},
   "outputs": [
    {
     "data": {
      "text/plain": [
       "{'proxyIp': '103.214.109.70:80',\n",
       " 'log_UID': 227,\n",
       " 'connect_times': 0,\n",
       " 'successful_connect_times': 0,\n",
       " 'qual_ratio': Decimal('0'),\n",
       " 'isValidate': 1,\n",
       " 'isDelete': 0,\n",
       " 'ishttps': 0,\n",
       " 'fromm': None,\n",
       " 'mine': None}"
      ]
     },
     "execution_count": 15,
     "metadata": {},
     "output_type": "execute_result"
    }
   ],
   "source": [
    "proxies_this = get_ip_from_db(\"no\",db_settings,qual_ratio=0,connect_times=4)\n",
    "proxies_this[0]"
   ]
  },
  {
   "cell_type": "code",
   "execution_count": 84,
   "id": "9fd53c8b",
   "metadata": {},
   "outputs": [
    {
     "name": "stdout",
     "output_type": "stream",
     "text": [
      "-------------\n"
     ]
    }
   ],
   "source": [
    "proxies_this={}\n",
    "proxies_all = get_ip_from_db(\"no\",db_settings,qual_ratio=0,connect_times=4)\n",
    "try:\n",
    "    for i in raw_datas:\n",
    "        print(\"-------------\")\n",
    "        with rq.session() as s:\n",
    "            try:\n",
    "                r = s.get(i['url'],headers=headers)\n",
    "                html_doc = r.text\n",
    "                soup = BeautifulSoup(html_doc, parser)\n",
    "                trs = soup.select(\"table tr em.xg1\")\n",
    "                if trs !=[]:\n",
    "                    i['nos_of_d']=int(re.search(r\"下载次数: (.*)\\)\",trs[0].text).group(1))\n",
    "                    continue\n",
    "                trs = soup.select(\"dd p\")\n",
    "                if trs !=[]:\n",
    "                    i['nos_of_d']=int(re.search(r\"下载次数: (.*)\",trs[3].text).group(1))\n",
    "                    continue\n",
    "            except requests.exceptions.RequestException as ex:\n",
    "                print(ex)\n",
    "                proxies_this={'http':proxies_all[0]['proxyIp']}\n",
    "                proxies_all.pop(0)\n",
    "            except Exception as ex:\n",
    "                print(ex)\n",
    "                print(i['url'])\n",
    "except"
   ]
  },
  {
   "cell_type": "code",
   "execution_count": 67,
   "id": "51c1adbc",
   "metadata": {},
   "outputs": [
    {
     "name": "stdout",
     "output_type": "stream",
     "text": [
      "HTTPConnectionPool(host='10.30.23.112', port=8888): Max retries exceeded with url: http://29th.cc/thread-2452832-1-1.html (Caused by ConnectTimeoutError(<urllib3.connection.HTTPConnection object at 0x00000208EF2AD8E0>, 'Connection to 10.30.23.112 timed out. (connect timeout=1)'))\n"
     ]
    }
   ],
   "source": [
    "t1 = threading.Thread(target=main, args=(url_list1, 1))\n",
    "t_list.append(t1)\n",
    "t2 = threading.Thread(target=main, args=(url_list2, 2))\n",
    "t_list.append(t2)\n",
    "t3 = threading.Thread(target=main, args=(url_list3, 3))\n",
    "t_list.append(t3)\n",
    "\n",
    "# 開始工作\n",
    "for t in t_list:\n",
    "    t.start()"
   ]
  },
  {
   "cell_type": "code",
   "execution_count": 83,
   "id": "5b786eaf",
   "metadata": {},
   "outputs": [
    {
     "data": {
      "text/plain": [
       "3126"
      ]
     },
     "execution_count": 83,
     "metadata": {},
     "output_type": "execute_result"
    }
   ],
   "source": [
    "r = rq.get(\"http://29th.cc/thread-2452804-1-1.html\",headers=headers)\n",
    "html_doc = r.text\n",
    "soup = BeautifulSoup(html_doc, \"lxml\")\n",
    "trs = soup.select(\"dd p\")\n",
    "int(re.search(r\"下载次数: (.*)\",trs[3].text).group(1))\n"
   ]
  },
  {
   "cell_type": "code",
   "execution_count": 81,
   "id": "5e979151",
   "metadata": {},
   "outputs": [
    {
     "data": {
      "text/plain": [
       "<p>106.77 KB, 下载次数: 3126</p>"
      ]
     },
     "execution_count": 81,
     "metadata": {},
     "output_type": "execute_result"
    }
   ],
   "source": [
    "trs[3]"
   ]
  },
  {
   "cell_type": "code",
   "execution_count": 63,
   "id": "5431ab7a",
   "metadata": {},
   "outputs": [
    {
     "data": {
      "text/plain": [
       "'2349'"
      ]
     },
     "execution_count": 63,
     "metadata": {},
     "output_type": "execute_result"
    }
   ],
   "source": [
    "re.search(r\"下载次数: (.*)\\)\",trs[0].text).group(1)"
   ]
  },
  {
   "cell_type": "code",
   "execution_count": null,
   "id": "0ac63667",
   "metadata": {},
   "outputs": [],
   "source": []
  }
 ],
 "metadata": {
  "kernelspec": {
   "display_name": "Python 3",
   "language": "python",
   "name": "python3"
  },
  "language_info": {
   "codemirror_mode": {
    "name": "ipython",
    "version": 3
   },
   "file_extension": ".py",
   "mimetype": "text/x-python",
   "name": "python",
   "nbconvert_exporter": "python",
   "pygments_lexer": "ipython3",
   "version": "3.8.8"
  }
 },
 "nbformat": 4,
 "nbformat_minor": 5
}
